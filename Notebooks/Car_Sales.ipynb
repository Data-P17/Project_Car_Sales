{
 "cells": [
  {
   "cell_type": "markdown",
   "metadata": {},
   "source": [
    "Project Car Sales"
   ]
  },
  {
   "cell_type": "code",
   "execution_count": null,
   "metadata": {},
   "outputs": [],
   "source": [
    "# Read the dataset's CSV file\n",
    "data_car_sales = pd.read_csv(r'/Data_P Github Repo/Project_Car_Sales/vehicles_us.csv')"
   ]
  },
  {
   "cell_type": "code",
   "execution_count": null,
   "metadata": {},
   "outputs": [],
   "source": [
    "# st.header \n",
    "st.header(\"Car Sales\")"
   ]
  },
  {
   "cell_type": "code",
   "execution_count": null,
   "metadata": {},
   "outputs": [],
   "source": [
    "# plotlyexpress histogram \n",
    "fig_hist = px.histogram(data_car_sales, x=\"x\", nbins=5, title= \"Histogram Of X\")\n"
   ]
  },
  {
   "cell_type": "code",
   "execution_count": null,
   "metadata": {},
   "outputs": [],
   "source": [
    "# plotlyexpress for scatter plot\n",
    "fig_scatter = px.scatter(data_car_sales, x=\"x\", y=\"y\", color= \"category\", title=\"Scatter Plot of X vs Y \")"
   ]
  },
  {
   "cell_type": "code",
   "execution_count": null,
   "metadata": {},
   "outputs": [],
   "source": [
    "# add a checkbox\n",
    "show_histogram = st.checkbox(\"Show Histogram\")\n"
   ]
  },
  {
   "cell_type": "code",
   "execution_count": null,
   "metadata": {},
   "outputs": [],
   "source": [
    "if show_histogram:\n",
    "    st.plotly_chart(fig_hist)\n",
    "else:\n",
    "    st.plotly_chart(fig_scatter)"
   ]
  }
 ],
 "metadata": {
  "kernelspec": {
   "display_name": "base",
   "language": "python",
   "name": "python3"
  },
  "language_info": {
   "codemirror_mode": {
    "name": "ipython",
    "version": 3
   },
   "file_extension": ".py",
   "mimetype": "text/x-python",
   "name": "python",
   "nbconvert_exporter": "python",
   "pygments_lexer": "ipython3",
   "version": "3.12.7"
  }
 },
 "nbformat": 4,
 "nbformat_minor": 4
}
