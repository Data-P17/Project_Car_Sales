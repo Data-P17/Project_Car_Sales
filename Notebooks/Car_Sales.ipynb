{
 "cells": [
  {
   "cell_type": "markdown",
   "metadata": {},
   "source": [
    "Project Car Sales"
   ]
  },
  {
   "cell_type": "code",
   "execution_count": 191,
   "metadata": {},
   "outputs": [
    {
     "name": "stdout",
     "output_type": "stream",
     "text": [
      "   price  model_year           model  condition  cylinders fuel  odometer  \\\n",
      "0   9400      2011.0          bmw x5       good        6.0  gas  145000.0   \n",
      "1  25500         NaN      ford f-150       good        6.0  gas   88705.0   \n",
      "2   5500      2013.0  hyundai sonata   like new        4.0  gas  110000.0   \n",
      "3   1500      2003.0      ford f-150       fair        8.0  gas       NaN   \n",
      "4  14900      2017.0    chrysler 200  excellent        4.0  gas   80903.0   \n",
      "\n",
      "  transmission    type paint_color  is_4wd date_posted  days_listed  \n",
      "0    automatic     SUV         NaN     1.0  2018-06-23           19  \n",
      "1    automatic  pickup       white     1.0  2018-10-19           50  \n",
      "2    automatic   sedan         red     NaN  2019-02-07           79  \n",
      "3    automatic  pickup         NaN     NaN  2019-03-22            9  \n",
      "4    automatic   sedan       black     NaN  2019-04-02           28  \n"
     ]
    }
   ],
   "source": [
    "import pandas as pd\n",
    "import streamlit as st \n",
    "import plotly.express as px \n",
    "\n",
    "# Read the dataset's CSV file\n",
    "data_car_sales = pd.read_csv('../vehicles_us.csv')\n",
    "print(data_car_sales.head())"
   ]
  },
  {
   "cell_type": "code",
   "execution_count": 192,
   "metadata": {},
   "outputs": [],
   "source": [
    "# Converting the floats and booleans to integers:\n",
    "# the 1 repersent yes for four wheel drive and the 0 represents the contrary.\n",
    "data_car_sales['is_4wd'] = data_car_sales['is_4wd'].fillna(0).astype(int)\n"
   ]
  },
  {
   "cell_type": "code",
   "execution_count": 193,
   "metadata": {},
   "outputs": [],
   "source": [
    "#filling in missing value for car color with 'unknown'.\n",
    "data_car_sales['paint_color'] = data_car_sales['paint_color'].fillna('unknown')\n"
   ]
  },
  {
   "cell_type": "code",
   "execution_count": 194,
   "metadata": {},
   "outputs": [],
   "source": [
    "#Filling the Cylinders missing values compared to the type of car it is.\n",
    "data_car_sales['cylinders'] = data_car_sales[['cylinders', 'type']].groupby('type').transform(lambda x:x.fillna(x.median()))\n"
   ]
  },
  {
   "cell_type": "code",
   "execution_count": 195,
   "metadata": {},
   "outputs": [],
   "source": [
    "#Filling in the Model_year missing values compared to the type of car it is. \n",
    "data_car_sales['model_year'] = data_car_sales[['model_year', 'type']].groupby('type').transform(lambda x:x.fillna(x.median()))\n"
   ]
  },
  {
   "cell_type": "code",
   "execution_count": 196,
   "metadata": {},
   "outputs": [],
   "source": [
    "#Filling in the Odometer missing values compared to the year.\n",
    "data_car_sales['odometer'] = data_car_sales[['odometer', 'model_year']].groupby('model_year').transform(lambda x:x.fillna(x.median()))\n"
   ]
  },
  {
   "cell_type": "code",
   "execution_count": 197,
   "metadata": {},
   "outputs": [
    {
     "name": "stderr",
     "output_type": "stream",
     "text": [
      "2025-02-13 19:38:53.169 Thread 'MainThread': missing ScriptRunContext! This warning can be ignored when running in bare mode.\n",
      "2025-02-13 19:38:53.182 Thread 'MainThread': missing ScriptRunContext! This warning can be ignored when running in bare mode.\n",
      "2025-02-13 19:38:53.338 Thread 'MainThread': missing ScriptRunContext! This warning can be ignored when running in bare mode.\n",
      "2025-02-13 19:38:53.345 Thread 'MainThread': missing ScriptRunContext! This warning can be ignored when running in bare mode.\n"
     ]
    },
    {
     "data": {
      "text/plain": [
       "DeltaGenerator()"
      ]
     },
     "execution_count": 197,
     "metadata": {},
     "output_type": "execute_result"
    }
   ],
   "source": [
    "# display the dataframe with Streamlit \n",
    "# creating a df header\n",
    "st.header(\"Car Sales\")\n",
    "#diplay the df with streamlit\n",
    "st.dataframe(data_car_sales)"
   ]
  },
  {
   "cell_type": "code",
   "execution_count": 198,
   "metadata": {},
   "outputs": [
    {
     "name": "stderr",
     "output_type": "stream",
     "text": [
      "2025-02-13 19:38:53.429 Thread 'MainThread': missing ScriptRunContext! This warning can be ignored when running in bare mode.\n",
      "2025-02-13 19:38:53.431 Thread 'MainThread': missing ScriptRunContext! This warning can be ignored when running in bare mode.\n",
      "2025-02-13 19:38:53.433 Thread 'MainThread': missing ScriptRunContext! This warning can be ignored when running in bare mode.\n",
      "2025-02-13 19:38:53.439 Thread 'MainThread': missing ScriptRunContext! This warning can be ignored when running in bare mode.\n",
      "2025-02-13 19:38:53.442 Thread 'MainThread': missing ScriptRunContext! This warning can be ignored when running in bare mode.\n",
      "2025-02-13 19:38:53.635 Thread 'MainThread': missing ScriptRunContext! This warning can be ignored when running in bare mode.\n",
      "2025-02-13 19:38:53.637 Thread 'MainThread': missing ScriptRunContext! This warning can be ignored when running in bare mode.\n",
      "2025-02-13 19:38:53.642 Thread 'MainThread': missing ScriptRunContext! This warning can be ignored when running in bare mode.\n",
      "2025-02-13 19:38:53.644 Thread 'MainThread': missing ScriptRunContext! This warning can be ignored when running in bare mode.\n",
      "2025-02-13 19:38:53.646 Thread 'MainThread': missing ScriptRunContext! This warning can be ignored when running in bare mode.\n",
      "2025-02-13 19:38:53.647 Thread 'MainThread': missing ScriptRunContext! This warning can be ignored when running in bare mode.\n"
     ]
    },
    {
     "data": {
      "text/plain": [
       "DeltaGenerator()"
      ]
     },
     "execution_count": 198,
     "metadata": {},
     "output_type": "execute_result"
    }
   ],
   "source": [
    "# Constants for configurations and conditions\n",
    "CONDITION_GOOD = 'good'\n",
    "MILEAGE_THRESHOLD = 30000\n",
    "NBINS = 5\n",
    "PLOT_TITLE = \"Good Condition Cars with Low Mileage\"\n",
    "CHECKBOX_LABEL = 'Color by Condition'\n",
    "\n",
    "# Define the checkbox for selecting color by condition\n",
    "color_by_condition = st.checkbox(CHECKBOX_LABEL, value=True)\n",
    "\n",
    "# Filter the dataset based on condition and mileage\n",
    "filtered_dcs = data_car_sales[(data_car_sales['condition'] == CONDITION_GOOD) & \n",
    "                              (data_car_sales['odometer'] <= MILEAGE_THRESHOLD)]\n",
    "\n",
    "# Create the histogram using Plotly Express\n",
    "fig_hist = px.histogram(filtered_dcs, x=\"odometer\", nbins=NBINS)\n",
    "\n",
    "# Set the plot header and display the plot\n",
    "st.header(\"Good Condition Cars with Low Mileage\")\n",
    "st.plotly_chart(fig_hist)"
   ]
  },
  {
   "cell_type": "code",
   "execution_count": 199,
   "metadata": {},
   "outputs": [
    {
     "name": "stderr",
     "output_type": "stream",
     "text": [
      "2025-02-13 19:38:54.361 Thread 'MainThread': missing ScriptRunContext! This warning can be ignored when running in bare mode.\n",
      "2025-02-13 19:38:54.363 Thread 'MainThread': missing ScriptRunContext! This warning can be ignored when running in bare mode.\n",
      "2025-02-13 19:38:54.371 Thread 'MainThread': missing ScriptRunContext! This warning can be ignored when running in bare mode.\n",
      "2025-02-13 19:38:54.374 Thread 'MainThread': missing ScriptRunContext! This warning can be ignored when running in bare mode.\n"
     ]
    },
    {
     "data": {
      "text/plain": [
       "DeltaGenerator()"
      ]
     },
     "execution_count": 199,
     "metadata": {},
     "output_type": "execute_result"
    }
   ],
   "source": [
    "#Scatter plot of Car Mileage vs. Years\n",
    "fig_cmvy = px.scatter(data_car_sales, x=\"model_year\", y=\"odometer\", color=\"type\", hover_data=[\"model\", \"paint_color\"], title=\"Car Mileage vs Year\")\n",
    "\n",
    "st.plotly_chart(fig_cmvy)"
   ]
  },
  {
   "cell_type": "code",
   "execution_count": 200,
   "metadata": {},
   "outputs": [
    {
     "name": "stderr",
     "output_type": "stream",
     "text": [
      "2025-02-13 19:38:56.007 Thread 'MainThread': missing ScriptRunContext! This warning can be ignored when running in bare mode.\n",
      "2025-02-13 19:38:56.009 Thread 'MainThread': missing ScriptRunContext! This warning can be ignored when running in bare mode.\n",
      "2025-02-13 19:38:56.039 Thread 'MainThread': missing ScriptRunContext! This warning can be ignored when running in bare mode.\n",
      "2025-02-13 19:38:56.041 Thread 'MainThread': missing ScriptRunContext! This warning can be ignored when running in bare mode.\n",
      "2025-02-13 19:38:56.043 Thread 'MainThread': missing ScriptRunContext! This warning can be ignored when running in bare mode.\n",
      "2025-02-13 19:38:56.044 Thread 'MainThread': missing ScriptRunContext! This warning can be ignored when running in bare mode.\n"
     ]
    },
    {
     "data": {
      "text/plain": [
       "DeltaGenerator()"
      ]
     },
     "execution_count": 200,
     "metadata": {},
     "output_type": "execute_result"
    }
   ],
   "source": [
    "# Histogram of Condition vs Model_year\n",
    "# The relationship between condition and model_year\n",
    "fig_cmy = px.histogram(data_car_sales, x='model_year', color='condition')\n",
    "st.header('Histogram of Condition vs Model_Year')\n",
    "st.plotly_chart(fig_cmy)"
   ]
  },
  {
   "cell_type": "code",
   "execution_count": 201,
   "metadata": {},
   "outputs": [
    {
     "name": "stderr",
     "output_type": "stream",
     "text": [
      "2025-02-13 19:38:56.843 Thread 'MainThread': missing ScriptRunContext! This warning can be ignored when running in bare mode.\n",
      "2025-02-13 19:38:56.845 Thread 'MainThread': missing ScriptRunContext! This warning can be ignored when running in bare mode.\n",
      "2025-02-13 19:38:56.851 Thread 'MainThread': missing ScriptRunContext! This warning can be ignored when running in bare mode.\n",
      "2025-02-13 19:38:56.853 Thread 'MainThread': missing ScriptRunContext! This warning can be ignored when running in bare mode.\n"
     ]
    },
    {
     "data": {
      "text/plain": [
       "DeltaGenerator()"
      ]
     },
     "execution_count": 201,
     "metadata": {},
     "output_type": "execute_result"
    }
   ],
   "source": [
    "#volin plot of mileage by make\n",
    "fig_vmm = px.violin(data_car_sales, x='model', y='odometer', title=\"Mileage Distribution by Make\", box=True, points=\"all\", color='model')\n",
    "\n",
    "fig_vmm.update_layout(width=900, height=600)\n",
    "\n",
    "st.plotly_chart(fig_vmm)"
   ]
  },
  {
   "cell_type": "code",
   "execution_count": 202,
   "metadata": {},
   "outputs": [
    {
     "name": "stderr",
     "output_type": "stream",
     "text": [
      "2025-02-13 19:38:56.886 Thread 'MainThread': missing ScriptRunContext! This warning can be ignored when running in bare mode.\n",
      "2025-02-13 19:38:56.888 Thread 'MainThread': missing ScriptRunContext! This warning can be ignored when running in bare mode.\n",
      "2025-02-13 19:38:56.890 Thread 'MainThread': missing ScriptRunContext! This warning can be ignored when running in bare mode.\n",
      "2025-02-13 19:38:56.896 Thread 'MainThread': missing ScriptRunContext! This warning can be ignored when running in bare mode.\n",
      "2025-02-13 19:38:56.898 Thread 'MainThread': missing ScriptRunContext! This warning can be ignored when running in bare mode.\n",
      "2025-02-13 19:38:56.899 Thread 'MainThread': missing ScriptRunContext! This warning can be ignored when running in bare mode.\n",
      "2025-02-13 19:38:56.900 Thread 'MainThread': missing ScriptRunContext! This warning can be ignored when running in bare mode.\n",
      "2025-02-13 19:38:56.901 Thread 'MainThread': missing ScriptRunContext! This warning can be ignored when running in bare mode.\n",
      "2025-02-13 19:38:56.902 Thread 'MainThread': missing ScriptRunContext! This warning can be ignored when running in bare mode.\n",
      "2025-02-13 19:38:56.903 Session state does not function when running a script without `streamlit run`\n",
      "2025-02-13 19:38:56.905 Thread 'MainThread': missing ScriptRunContext! This warning can be ignored when running in bare mode.\n",
      "2025-02-13 19:38:56.908 Thread 'MainThread': missing ScriptRunContext! This warning can be ignored when running in bare mode.\n",
      "2025-02-13 19:38:57.053 Thread 'MainThread': missing ScriptRunContext! This warning can be ignored when running in bare mode.\n",
      "2025-02-13 19:38:57.055 Thread 'MainThread': missing ScriptRunContext! This warning can be ignored when running in bare mode.\n",
      "2025-02-13 19:38:57.068 Thread 'MainThread': missing ScriptRunContext! This warning can be ignored when running in bare mode.\n",
      "2025-02-13 19:38:57.069 Thread 'MainThread': missing ScriptRunContext! This warning can be ignored when running in bare mode.\n",
      "2025-02-13 19:38:57.071 Thread 'MainThread': missing ScriptRunContext! This warning can be ignored when running in bare mode.\n",
      "2025-02-13 19:38:57.072 Thread 'MainThread': missing ScriptRunContext! This warning can be ignored when running in bare mode.\n"
     ]
    },
    {
     "data": {
      "text/plain": [
       "DeltaGenerator()"
      ]
     },
     "execution_count": 202,
     "metadata": {},
     "output_type": "execute_result"
    }
   ],
   "source": [
    "# Exploring Vehicle Distribution by Model Year and Cylinders\n",
    "# Here’s the code to allow a user to filter cars by model year and cylinder type\n",
    "# Constants for filtering and titles\n",
    "PLOT_TITLE = \"Vehicle Distribution by Model Year and Cylinders\"\n",
    "MODEL_YEAR_RANGE = (2010, 2020)  # Default range for model years\n",
    "\n",
    "# User Inputs: Model Year Range Slider\n",
    "year_min, year_max = st.slider(\"Select Model Year Range\", min_value=2000, max_value=2025, \n",
    "                               value=MODEL_YEAR_RANGE, step=1)\n",
    "\n",
    "# User Input: Select Cylinders\n",
    "cylinder_type = st.selectbox(\"Select Number of Cylinders\", options=[4, 6, 8], index=0)\n",
    "\n",
    "# Filter the dataset based on model year and cylinder type\n",
    "filtered_data = data_car_sales[(data_car_sales['model_year'] >= year_min) & \n",
    "                               (data_car_sales['model_year'] <= year_max) &\n",
    "                               (data_car_sales['cylinders'] == cylinder_type)]\n",
    "\n",
    "# Create a bar chart to visualize the distribution of cars based on the filters\n",
    "fig_bar = px.histogram(filtered_data, x=\"model_year\", nbins=15, \n",
    "                       title=PLOT_TITLE, \n",
    "                       labels={\"model_year\": \"Model Year\", \"count\": \"Number of Cars\"})\n",
    "\n",
    "# Show the plot\n",
    "st.header(PLOT_TITLE)\n",
    "st.plotly_chart(fig_bar)"
   ]
  }
 ],
 "metadata": {
  "kernelspec": {
   "display_name": "base",
   "language": "python",
   "name": "python3"
  },
  "language_info": {
   "codemirror_mode": {
    "name": "ipython",
    "version": 3
   },
   "file_extension": ".py",
   "mimetype": "text/x-python",
   "name": "python",
   "nbconvert_exporter": "python",
   "pygments_lexer": "ipython3",
   "version": "3.12.7"
  }
 },
 "nbformat": 4,
 "nbformat_minor": 4
}
